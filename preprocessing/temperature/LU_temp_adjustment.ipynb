{
 "cells": [
  {
   "cell_type": "markdown",
   "id": "eb2b7734",
   "metadata": {},
   "source": [
    "LU is not included in table 2 or 4 ub Kozarcanin et al. Apply adjustment based on neighbouring country(ies)"
   ]
  },
  {
   "cell_type": "code",
   "execution_count": 1,
   "id": "98ba8e8a",
   "metadata": {},
   "outputs": [],
   "source": [
    "import os\n",
    "import pandas as pd\n",
    "import numpy as np\n",
    "import matplotlib.pyplot as plt\n",
    "\n",
    "%matplotlib inline"
   ]
  },
  {
   "cell_type": "code",
   "execution_count": 2,
   "id": "09e9383f",
   "metadata": {},
   "outputs": [],
   "source": [
    "cwd=os.getcwd()\n",
    "path_raw_ninja_data=os.path.join(cwd, \"../../raw_data/ninja_weather/\")\n",
    "path_adjustment_model=os.path.join(cwd, 'ninja_temp_adjustment.csv')\n",
    "\n",
    "df_adjustment=pd.read_csv(path_adjustment_model, index_col=0)\n",
    "df_adjustment=df_adjustment[['slope', 'intercept']]\n",
    "# focus on neighbouring countries\n",
    "df_adjustment=df_adjustment.loc[['BE', 'DE', 'FR']]\n"
   ]
  },
  {
   "cell_type": "code",
   "execution_count": 3,
   "id": "d6c8fe13",
   "metadata": {},
   "outputs": [
    {
     "data": {
      "text/plain": [
       "slope        0.926183\n",
       "intercept    1.332787\n",
       "dtype: float64"
      ]
     },
     "execution_count": 3,
     "metadata": {},
     "output_type": "execute_result"
    }
   ],
   "source": [
    "df_adjustment.mean()"
   ]
  },
  {
   "cell_type": "code",
   "execution_count": 4,
   "id": "828c0db4",
   "metadata": {},
   "outputs": [
    {
     "data": {
      "text/html": [
       "<div>\n",
       "<style scoped>\n",
       "    .dataframe tbody tr th:only-of-type {\n",
       "        vertical-align: middle;\n",
       "    }\n",
       "\n",
       "    .dataframe tbody tr th {\n",
       "        vertical-align: top;\n",
       "    }\n",
       "\n",
       "    .dataframe thead th {\n",
       "        text-align: right;\n",
       "    }\n",
       "</style>\n",
       "<table border=\"1\" class=\"dataframe\">\n",
       "  <thead>\n",
       "    <tr style=\"text-align: right;\">\n",
       "      <th></th>\n",
       "      <th>BE</th>\n",
       "      <th>DE</th>\n",
       "      <th>FR</th>\n",
       "      <th>LU</th>\n",
       "    </tr>\n",
       "  </thead>\n",
       "  <tbody>\n",
       "    <tr>\n",
       "      <th>count</th>\n",
       "      <td>350640.000000</td>\n",
       "      <td>350640.000000</td>\n",
       "      <td>350640.000000</td>\n",
       "      <td>350640.000000</td>\n",
       "    </tr>\n",
       "    <tr>\n",
       "      <th>mean</th>\n",
       "      <td>9.783023</td>\n",
       "      <td>8.785579</td>\n",
       "      <td>11.042347</td>\n",
       "      <td>8.882334</td>\n",
       "    </tr>\n",
       "    <tr>\n",
       "      <th>std</th>\n",
       "      <td>7.172334</td>\n",
       "      <td>8.154343</td>\n",
       "      <td>7.263457</td>\n",
       "      <td>8.069127</td>\n",
       "    </tr>\n",
       "    <tr>\n",
       "      <th>min</th>\n",
       "      <td>-17.119000</td>\n",
       "      <td>-19.807000</td>\n",
       "      <td>-12.970000</td>\n",
       "      <td>-19.315000</td>\n",
       "    </tr>\n",
       "    <tr>\n",
       "      <th>25%</th>\n",
       "      <td>4.474000</td>\n",
       "      <td>2.452000</td>\n",
       "      <td>5.531000</td>\n",
       "      <td>2.662000</td>\n",
       "    </tr>\n",
       "    <tr>\n",
       "      <th>50%</th>\n",
       "      <td>9.632000</td>\n",
       "      <td>8.568000</td>\n",
       "      <td>10.644000</td>\n",
       "      <td>8.511000</td>\n",
       "    </tr>\n",
       "    <tr>\n",
       "      <th>75%</th>\n",
       "      <td>14.983000</td>\n",
       "      <td>14.919000</td>\n",
       "      <td>16.282000</td>\n",
       "      <td>14.726000</td>\n",
       "    </tr>\n",
       "    <tr>\n",
       "      <th>max</th>\n",
       "      <td>37.918000</td>\n",
       "      <td>35.479000</td>\n",
       "      <td>36.465000</td>\n",
       "      <td>39.465000</td>\n",
       "    </tr>\n",
       "  </tbody>\n",
       "</table>\n",
       "</div>"
      ],
      "text/plain": [
       "                  BE             DE             FR             LU\n",
       "count  350640.000000  350640.000000  350640.000000  350640.000000\n",
       "mean        9.783023       8.785579      11.042347       8.882334\n",
       "std         7.172334       8.154343       7.263457       8.069127\n",
       "min       -17.119000     -19.807000     -12.970000     -19.315000\n",
       "25%         4.474000       2.452000       5.531000       2.662000\n",
       "50%         9.632000       8.568000      10.644000       8.511000\n",
       "75%        14.983000      14.919000      16.282000      14.726000\n",
       "max        37.918000      35.479000      36.465000      39.465000"
      ]
     },
     "execution_count": 4,
     "metadata": {},
     "output_type": "execute_result"
    }
   ],
   "source": [
    "# make a dataframe for the 4 countries of interest\n",
    "df_raw=pd.DataFrame()\n",
    "for country in ['BE', 'DE', 'FR', 'LU']:\n",
    "    _df_raw=pd.read_csv(os.path.join(path_raw_ninja_data, \n",
    "                    'ninja_weather_country_%s_merra-2_population_weighted.csv' %country),\n",
    "                    skiprows=2, usecols=[0,2])\n",
    "    _df_raw['time']=pd.to_datetime(_df_raw['time'])\n",
    "    _df_raw=_df_raw.set_index('time')\n",
    "    exec('df_raw_%s= _df_raw' %country )\n",
    "    \n",
    "    if len(df_raw)==0:\n",
    "        df_raw=_df_raw.rename({'temperature':country},axis=1)\n",
    "    else:\n",
    "        df_raw=pd.concat([df_raw, _df_raw.rename({'temperature':country},axis=1)], axis=1)\n",
    "\n",
    "df_raw.describe()"
   ]
  },
  {
   "cell_type": "code",
   "execution_count": 5,
   "id": "7fb81176",
   "metadata": {},
   "outputs": [
    {
     "name": "stdout",
     "output_type": "stream",
     "text": [
      "BE\n",
      "rmse=  1.999931737132872\n",
      "correlation=  [[1.         0.97940148]\n",
      " [0.97940148 1.        ]]\n",
      "DE\n",
      "rmse=  1.6293076564950713\n",
      "correlation=  [[1.         0.97995372]\n",
      " [0.97995372 1.        ]]\n",
      "FR\n",
      "rmse=  2.9090033872766217\n",
      "correlation=  [[1.         0.97314826]\n",
      " [0.97314826 1.        ]]\n"
     ]
    }
   ],
   "source": [
    "# compute RMSE and Pearson correlation\n",
    "from sklearn.metrics import mean_squared_error\n",
    "for country in ['BE', 'DE', 'FR']:\n",
    "    print(country)\n",
    "    print('rmse= ', np.sqrt(mean_squared_error(df_raw[country], df_raw['LU'])))\n",
    "    print('correlation= ', np.corrcoef((df_raw[country], df_raw['LU'])))\n"
   ]
  },
  {
   "cell_type": "code",
   "execution_count": 6,
   "id": "36607fd8",
   "metadata": {},
   "outputs": [
    {
     "name": "stdout",
     "output_type": "stream",
     "text": [
      "0.9074640313131312 1.633786751922825\n"
     ]
    },
    {
     "data": {
      "text/plain": [
       "count    350640.000000\n",
       "mean          9.694185\n",
       "std           7.322443\n",
       "min         -15.893881\n",
       "25%           4.049456\n",
       "50%           9.357213\n",
       "75%          14.997102\n",
       "max          37.446855\n",
       "Name: temperature, dtype: float64"
      ]
     },
     "execution_count": 6,
     "metadata": {},
     "output_type": "execute_result"
    }
   ],
   "source": [
    "# recall that the adjustment for France is one of the least accurate in terms of replicating the monthly HDD\n",
    "# DE is the closest; followed by BE; we therefore take the average from these two for the adjustment params.\n",
    "\n",
    "alpha=df_adjustment.loc[['BE', 'DE'], 'slope'].mean()\n",
    "beta=df_adjustment.loc[['BE', 'DE'], 'intercept'].mean()\n",
    "print(alpha, beta)\n",
    "\n",
    "df_LU_adjusted=df_raw['LU']*alpha + beta\n",
    "\n",
    "# rename the series temperature to match with others\n",
    "df_LU_adjusted=df_LU_adjusted.rename('temperature')\n",
    "\n",
    "df_LU_adjusted.to_csv('adjusted_ninja_temperature/adjusted_ninja_temp_LU.csv')\n",
    "\n",
    "df_LU_adjusted.describe()"
   ]
  },
  {
   "cell_type": "code",
   "execution_count": 7,
   "id": "b1a448b7",
   "metadata": {},
   "outputs": [],
   "source": [
    "# find average HDD per month from 2008 to 2007 (as in table 4)\n",
    "\n",
    "# use eurostat threshold\n",
    "threshold=15.\n",
    "\n",
    "\n",
    "# initialise for each country\n",
    "_df_HDD=pd.DataFrame(columns=np.arange(1,13,1)) # HDD per month\n",
    "_df_noheating_hours=pd.DataFrame(columns=np.arange(1,13,1)) # number of hours with no heating in the month\n",
    "\n",
    "for year, _df_year in df_LU_adjusted.groupby(df_LU_adjusted.index.year):\n",
    "\n",
    "    _monthly_HDD=np.array([])\n",
    "    _monthly_sum_temp_ninja=np.array([])\n",
    "    _monthly_noheating_hours=np.array([])\n",
    "\n",
    "    for month, _df_month in _df_year.groupby(_df_year.index.month):\n",
    "\n",
    "        _sum=_df_month.sum() # sum temp\n",
    "\n",
    "        _s_HDH=threshold-_df_month # series of degree-hours\n",
    "\n",
    "        _HDD=(_s_HDH).clip(lower=0).sum()/24 # convert heating degree hours to heating degree days for the month\n",
    "\n",
    "        _noheating_hours=(_s_HDH[_s_HDH<0]).count() # number of no heating hours in the month\n",
    "\n",
    "        _monthly_HDD=np.append(_monthly_HDD, _HDD)\n",
    "        _monthly_noheating_hours=np.append(_monthly_noheating_hours, _noheating_hours)\n",
    "        _monthly_sum_temp_ninja=np.append(_monthly_sum_temp_ninja, _sum)\n",
    "\n",
    "    _row=pd.DataFrame(columns=np.arange(1,13,1), data=_monthly_HDD.reshape(1,12), index=[year])\n",
    "    _df_HDD=pd.concat([_df_HDD, _row], axis=0)\n",
    "\n",
    "    _row1=pd.DataFrame(columns=np.arange(1,13,1), data=_monthly_noheating_hours.reshape(1,12), index=[year])\n",
    "    _df_noheating_hours=pd.concat([_df_noheating_hours, _row1], axis=0)\n"
   ]
  },
  {
   "cell_type": "code",
   "execution_count": 8,
   "id": "48d4ba07",
   "metadata": {},
   "outputs": [
    {
     "data": {
      "text/plain": [
       "1     416.721633\n",
       "2     357.816973\n",
       "3     290.453577\n",
       "4     177.763409\n",
       "5      90.104325\n",
       "6      33.830045\n",
       "7      16.256902\n",
       "8      19.183515\n",
       "9      63.467416\n",
       "10    161.129752\n",
       "11    263.326499\n",
       "12    378.637371\n",
       "dtype: float64"
      ]
     },
     "execution_count": 8,
     "metadata": {},
     "output_type": "execute_result"
    }
   ],
   "source": [
    "_df_HDD.loc[np.arange(2008, 2018)].mean()"
   ]
  },
  {
   "cell_type": "code",
   "execution_count": 9,
   "id": "cc3d0ab9",
   "metadata": {},
   "outputs": [
    {
     "data": {
      "text/plain": [
       "1       0.0\n",
       "2       0.0\n",
       "3      17.2\n",
       "4      85.6\n",
       "5     249.5\n",
       "6     432.9\n",
       "7     562.4\n",
       "8     531.8\n",
       "9     302.5\n",
       "10     87.5\n",
       "11      5.4\n",
       "12      0.0\n",
       "dtype: float64"
      ]
     },
     "execution_count": 9,
     "metadata": {},
     "output_type": "execute_result"
    }
   ],
   "source": [
    "_df_noheating_hours.loc[np.arange(2008, 2018)].mean()"
   ]
  },
  {
   "cell_type": "code",
   "execution_count": 10,
   "id": "a54ca494",
   "metadata": {},
   "outputs": [],
   "source": [
    "# take summer months to be June, July, August (same as France)"
   ]
  },
  {
   "cell_type": "code",
   "execution_count": null,
   "id": "9129919c",
   "metadata": {},
   "outputs": [],
   "source": []
  }
 ],
 "metadata": {
  "kernelspec": {
   "display_name": "Python 3 (ipykernel)",
   "language": "python",
   "name": "python3"
  },
  "language_info": {
   "codemirror_mode": {
    "name": "ipython",
    "version": 3
   },
   "file_extension": ".py",
   "mimetype": "text/x-python",
   "name": "python",
   "nbconvert_exporter": "python",
   "pygments_lexer": "ipython3",
   "version": "3.10.4"
  }
 },
 "nbformat": 4,
 "nbformat_minor": 5
}
