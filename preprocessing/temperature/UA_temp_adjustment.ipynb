{
 "cells": [
  {
   "cell_type": "markdown",
   "id": "eb2b7734",
   "metadata": {},
   "source": [
    "UA is not included in table 2 or 4 ub Kozarcanin et al. Apply adjustment based on neighbouring country(ies)"
   ]
  },
  {
   "cell_type": "code",
   "execution_count": 1,
   "id": "98ba8e8a",
   "metadata": {},
   "outputs": [],
   "source": [
    "import os\n",
    "import pandas as pd\n",
    "import numpy as np\n",
    "import matplotlib.pyplot as plt\n",
    "\n",
    "%matplotlib inline"
   ]
  },
  {
   "cell_type": "code",
   "execution_count": 2,
   "id": "09e9383f",
   "metadata": {},
   "outputs": [],
   "source": [
    "cwd=os.getcwd()\n",
    "path_raw_ninja_data=os.path.join(cwd, \"../../raw_data/ninja_weather/\")\n",
    "path_adjustment_model=os.path.join(cwd, 'ninja_temp_adjustment.csv')\n",
    "\n",
    "df_adjustment=pd.read_csv(path_adjustment_model, index_col=0)\n",
    "df_adjustment=df_adjustment[['slope', 'intercept']]\n",
    "# focus on neighbouring countries\n",
    "df_adjustment=df_adjustment.loc[['PL', 'RO']]\n"
   ]
  },
  {
   "cell_type": "code",
   "execution_count": 3,
   "id": "d6c8fe13",
   "metadata": {},
   "outputs": [
    {
     "data": {
      "text/plain": [
       "slope        0.916767\n",
       "intercept    1.284968\n",
       "dtype: float64"
      ]
     },
     "execution_count": 3,
     "metadata": {},
     "output_type": "execute_result"
    }
   ],
   "source": [
    "df_adjustment.mean()"
   ]
  },
  {
   "cell_type": "code",
   "execution_count": 4,
   "id": "828c0db4",
   "metadata": {},
   "outputs": [
    {
     "data": {
      "text/html": [
       "<div>\n",
       "<style scoped>\n",
       "    .dataframe tbody tr th:only-of-type {\n",
       "        vertical-align: middle;\n",
       "    }\n",
       "\n",
       "    .dataframe tbody tr th {\n",
       "        vertical-align: top;\n",
       "    }\n",
       "\n",
       "    .dataframe thead th {\n",
       "        text-align: right;\n",
       "    }\n",
       "</style>\n",
       "<table border=\"1\" class=\"dataframe\">\n",
       "  <thead>\n",
       "    <tr style=\"text-align: right;\">\n",
       "      <th></th>\n",
       "      <th>PL</th>\n",
       "      <th>RO</th>\n",
       "      <th>UA</th>\n",
       "    </tr>\n",
       "  </thead>\n",
       "  <tbody>\n",
       "    <tr>\n",
       "      <th>count</th>\n",
       "      <td>350640.000000</td>\n",
       "      <td>350640.000000</td>\n",
       "      <td>350640.000000</td>\n",
       "    </tr>\n",
       "    <tr>\n",
       "      <th>mean</th>\n",
       "      <td>8.056733</td>\n",
       "      <td>10.128155</td>\n",
       "      <td>8.509547</td>\n",
       "    </tr>\n",
       "    <tr>\n",
       "      <th>std</th>\n",
       "      <td>9.379580</td>\n",
       "      <td>10.312758</td>\n",
       "      <td>10.775677</td>\n",
       "    </tr>\n",
       "    <tr>\n",
       "      <th>min</th>\n",
       "      <td>-28.290000</td>\n",
       "      <td>-21.135000</td>\n",
       "      <td>-28.655000</td>\n",
       "    </tr>\n",
       "    <tr>\n",
       "      <th>25%</th>\n",
       "      <td>0.736000</td>\n",
       "      <td>1.630000</td>\n",
       "      <td>-0.071000</td>\n",
       "    </tr>\n",
       "    <tr>\n",
       "      <th>50%</th>\n",
       "      <td>7.996000</td>\n",
       "      <td>10.207000</td>\n",
       "      <td>8.495000</td>\n",
       "    </tr>\n",
       "    <tr>\n",
       "      <th>75%</th>\n",
       "      <td>15.359000</td>\n",
       "      <td>18.137000</td>\n",
       "      <td>17.281000</td>\n",
       "    </tr>\n",
       "    <tr>\n",
       "      <th>max</th>\n",
       "      <td>35.787000</td>\n",
       "      <td>38.875000</td>\n",
       "      <td>35.837000</td>\n",
       "    </tr>\n",
       "  </tbody>\n",
       "</table>\n",
       "</div>"
      ],
      "text/plain": [
       "                  PL             RO             UA\n",
       "count  350640.000000  350640.000000  350640.000000\n",
       "mean        8.056733      10.128155       8.509547\n",
       "std         9.379580      10.312758      10.775677\n",
       "min       -28.290000     -21.135000     -28.655000\n",
       "25%         0.736000       1.630000      -0.071000\n",
       "50%         7.996000      10.207000       8.495000\n",
       "75%        15.359000      18.137000      17.281000\n",
       "max        35.787000      38.875000      35.837000"
      ]
     },
     "execution_count": 4,
     "metadata": {},
     "output_type": "execute_result"
    }
   ],
   "source": [
    "# make a dataframe for the 4 countries of interest\n",
    "df_raw=pd.DataFrame()\n",
    "for country in ['PL', 'RO', 'UA']:\n",
    "    _df_raw=pd.read_csv(os.path.join(path_raw_ninja_data, \n",
    "                    'ninja_weather_country_%s_merra-2_population_weighted.csv' %country),\n",
    "                    skiprows=2, usecols=[0,2])\n",
    "    _df_raw['time']=pd.to_datetime(_df_raw['time'])\n",
    "    _df_raw=_df_raw.set_index('time')\n",
    "    exec('df_raw_%s= _df_raw' %country )\n",
    "    \n",
    "    if len(df_raw)==0:\n",
    "        df_raw=_df_raw.rename({'temperature':country},axis=1)\n",
    "    else:\n",
    "        df_raw=pd.concat([df_raw, _df_raw.rename({'temperature':country},axis=1)], axis=1)\n",
    "\n",
    "df_raw.describe()"
   ]
  },
  {
   "cell_type": "code",
   "execution_count": 5,
   "id": "7fb81176",
   "metadata": {},
   "outputs": [
    {
     "name": "stdout",
     "output_type": "stream",
     "text": [
      "PL\n",
      "rmse=  3.7546145806819555\n",
      "correlation=  [[1.         0.94091776]\n",
      " [0.94091776 1.        ]]\n",
      "RO\n",
      "rmse=  3.060301908558894\n",
      "correlation=  [[1.         0.97061343]\n",
      " [0.97061343 1.        ]]\n"
     ]
    }
   ],
   "source": [
    "# compute RMSE and Pearson correlation\n",
    "from sklearn.metrics import mean_squared_error\n",
    "for country in ['PL', 'RO']:\n",
    "    print(country)\n",
    "    print('rmse= ', np.sqrt(mean_squared_error(df_raw[country], df_raw['UA'])))\n",
    "    print('correlation= ', np.corrcoef((df_raw[country], df_raw['UA'])))\n"
   ]
  },
  {
   "cell_type": "code",
   "execution_count": 6,
   "id": "36607fd8",
   "metadata": {},
   "outputs": [
    {
     "name": "stdout",
     "output_type": "stream",
     "text": [
      "0.9167673442645028 1.284968028908732\n"
     ]
    },
    {
     "data": {
      "text/plain": [
       "count    350640.000000\n",
       "mean          9.086242\n",
       "std           9.878789\n",
       "min         -24.985000\n",
       "25%           1.219878\n",
       "50%           9.072907\n",
       "75%          17.127625\n",
       "max          34.139159\n",
       "Name: temperature, dtype: float64"
      ]
     },
     "execution_count": 6,
     "metadata": {},
     "output_type": "execute_result"
    }
   ],
   "source": [
    "# take the average from PL and RO for the adjustment params.\n",
    "\n",
    "alpha=df_adjustment.loc[['PL', 'RO'], 'slope'].mean()\n",
    "beta=df_adjustment.loc[['PL', 'RO'], 'intercept'].mean()\n",
    "print(alpha, beta)\n",
    "\n",
    "df_UA_adjusted=df_raw['UA']*alpha + beta\n",
    "\n",
    "# rename the series temperature to match with others\n",
    "df_UA_adjusted=df_UA_adjusted.rename('temperature')\n",
    "\n",
    "df_UA_adjusted.to_csv('adjusted_ninja_temperature/adjusted_ninja_temp_UA.csv')\n",
    "\n",
    "df_UA_adjusted.describe()"
   ]
  },
  {
   "cell_type": "code",
   "execution_count": 7,
   "id": "b1a448b7",
   "metadata": {},
   "outputs": [],
   "source": [
    "# find average HDD per month from 2008 to 2007 (as in table 4)\n",
    "\n",
    "# use eurostat threshold\n",
    "threshold=15.\n",
    "\n",
    "\n",
    "# initialise for each country\n",
    "_df_HDD=pd.DataFrame(columns=np.arange(1,13,1)) # HDD per month\n",
    "_df_noheating_hours=pd.DataFrame(columns=np.arange(1,13,1)) # number of hours with no heating in the month\n",
    "\n",
    "for year, _df_year in df_UA_adjusted.groupby(df_UA_adjusted.index.year):\n",
    "\n",
    "    _monthly_HDD=np.array([])\n",
    "    _monthly_sum_temp_ninja=np.array([])\n",
    "    _monthly_noheating_hours=np.array([])\n",
    "\n",
    "    for month, _df_month in _df_year.groupby(_df_year.index.month):\n",
    "\n",
    "        _sum=_df_month.sum() # sum temp\n",
    "\n",
    "        _s_HDH=threshold-_df_month # series of degree-hours\n",
    "\n",
    "        _HDD=(_s_HDH).clip(lower=0).sum()/24 # convert heating degree hours to heating degree days for the month\n",
    "\n",
    "        _noheating_hours=(_s_HDH[_s_HDH<0]).count() # number of no heating hours in the month\n",
    "\n",
    "        _monthly_HDD=np.append(_monthly_HDD, _HDD)\n",
    "        _monthly_noheating_hours=np.append(_monthly_noheating_hours, _noheating_hours)\n",
    "        _monthly_sum_temp_ninja=np.append(_monthly_sum_temp_ninja, _sum)\n",
    "\n",
    "    _row=pd.DataFrame(columns=np.arange(1,13,1), data=_monthly_HDD.reshape(1,12), index=[year])\n",
    "    _df_HDD=pd.concat([_df_HDD, _row], axis=0)\n",
    "\n",
    "    _row1=pd.DataFrame(columns=np.arange(1,13,1), data=_monthly_noheating_hours.reshape(1,12), index=[year])\n",
    "    _df_noheating_hours=pd.concat([_df_noheating_hours, _row1], axis=0)\n"
   ]
  },
  {
   "cell_type": "code",
   "execution_count": 8,
   "id": "48d4ba07",
   "metadata": {},
   "outputs": [
    {
     "data": {
      "text/plain": [
       "1     586.148366\n",
       "2     472.350134\n",
       "3     360.132414\n",
       "4     166.542604\n",
       "5      43.199541\n",
       "6       6.001484\n",
       "7       0.691179\n",
       "8       2.712574\n",
       "9      41.676921\n",
       "10    196.000053\n",
       "11    319.085959\n",
       "12    481.696585\n",
       "dtype: float64"
      ]
     },
     "execution_count": 8,
     "metadata": {},
     "output_type": "execute_result"
    }
   ],
   "source": [
    "_df_HDD.loc[np.arange(2008, 2018)].mean()"
   ]
  },
  {
   "cell_type": "code",
   "execution_count": 9,
   "id": "cc3d0ab9",
   "metadata": {},
   "outputs": [
    {
     "data": {
      "text/plain": [
       "1       0.0\n",
       "2       0.0\n",
       "3       3.3\n",
       "4     111.2\n",
       "5     413.9\n",
       "6     626.2\n",
       "7     721.5\n",
       "8     692.5\n",
       "9     396.0\n",
       "10     73.4\n",
       "11      3.7\n",
       "12      0.0\n",
       "dtype: float64"
      ]
     },
     "execution_count": 9,
     "metadata": {},
     "output_type": "execute_result"
    }
   ],
   "source": [
    "_df_noheating_hours.loc[np.arange(2008, 2018)].mean()"
   ]
  },
  {
   "cell_type": "code",
   "execution_count": 10,
   "id": "a54ca494",
   "metadata": {},
   "outputs": [],
   "source": [
    "# take summer months to be May-September"
   ]
  }
 ],
 "metadata": {
  "kernelspec": {
   "display_name": "Python 3 (ipykernel)",
   "language": "python",
   "name": "python3"
  },
  "language_info": {
   "codemirror_mode": {
    "name": "ipython",
    "version": 3
   },
   "file_extension": ".py",
   "mimetype": "text/x-python",
   "name": "python",
   "nbconvert_exporter": "python",
   "pygments_lexer": "ipython3",
   "version": "3.10.4"
  }
 },
 "nbformat": 4,
 "nbformat_minor": 5
}
